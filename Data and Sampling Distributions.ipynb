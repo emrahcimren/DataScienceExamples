{
 "cells": [
  {
   "cell_type": "markdown",
   "metadata": {},
   "source": [
    "## Data and Sampling Distributions"
   ]
  },
  {
   "cell_type": "code",
   "execution_count": 15,
   "metadata": {},
   "outputs": [
    {
     "data": {
      "text/plain": [
       "50000"
      ]
     },
     "execution_count": 15,
     "metadata": {},
     "output_type": "execute_result"
    }
   ],
   "source": [
    "import pandas as pd\n",
    "import numpy as np\n",
    "loans_income = pd.read_csv(r'Data\\loans_income.csv')\n",
    "loans_income = list(loans_income['x'].astype(float))\n",
    "len(loans_income)"
   ]
  },
  {
   "cell_type": "markdown",
   "metadata": {},
   "source": [
    "# Bootstrapping Algorithm #\n",
    "1. Draw a sample value, record, replace it.\n",
    "2. Repeat $n$ times.\n",
    "3. Record the mean of the $n$ resampled values.\n",
    "4. Repeat steps 1–3 $R$ times.\n",
    "\n",
    "Use the $R$ results to:\n",
    "- Calculate their standard deviation (this estimates sample mean standard error).\n",
    "- Produce a histogram or boxplot.\n",
    "- Find a confidence interval.\n",
    "\n",
    "Finding confidence interval:\n",
    "1. Find the number of observations $n$, calculate their mean $\\bar{x}$, and standard deviation $s$.\n",
    "2. Decide what Confidence Interval we want: 95% or 99% are common choices. Then find the $Z$ value for that Confidence Interval.\n",
    "3. Use that $Z$ in this formula for the Confidence Interval: $\\bar{x} \\mp Z\\frac{s}{\\sqrt{n}}$"
   ]
  },
  {
   "cell_type": "code",
   "execution_count": 23,
   "metadata": {},
   "outputs": [],
   "source": [
    "sample_size = 5000\n",
    "replications = 10\n",
    "samples = np.array([np.random.choice(loans_income, sample_size, replace = True) for _ in range(replications)])\n",
    "sample_mean = np.mean(samples, axis=1)\n",
    "sample_standard_deviation = np.std(samples, axis=1)"
   ]
  },
  {
   "cell_type": "code",
   "execution_count": 22,
   "metadata": {},
   "outputs": [
    {
     "data": {
      "text/plain": [
       "array([68497.8972, 68943.3528, 69044.363 , 68468.627 , 68618.2946,\n",
       "       68093.2102, 68636.3772, 68381.7356, 68772.7952, 68205.735 ])"
      ]
     },
     "execution_count": 22,
     "metadata": {},
     "output_type": "execute_result"
    }
   ],
   "source": []
  },
  {
   "cell_type": "code",
   "execution_count": null,
   "metadata": {},
   "outputs": [],
   "source": []
  }
 ],
 "metadata": {
  "kernelspec": {
   "display_name": "Python 3",
   "language": "python",
   "name": "python3"
  },
  "language_info": {
   "codemirror_mode": {
    "name": "ipython",
    "version": 3
   },
   "file_extension": ".py",
   "mimetype": "text/x-python",
   "name": "python",
   "nbconvert_exporter": "python",
   "pygments_lexer": "ipython3",
   "version": "3.7.0"
  }
 },
 "nbformat": 4,
 "nbformat_minor": 2
}
