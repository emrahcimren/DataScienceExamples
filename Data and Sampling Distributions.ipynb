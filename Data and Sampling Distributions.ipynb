{
 "cells": [
  {
   "cell_type": "markdown",
   "metadata": {},
   "source": [
    "## Data and Sampling Distributions"
   ]
  },
  {
   "cell_type": "code",
   "execution_count": 55,
   "metadata": {},
   "outputs": [
    {
     "data": {
      "text/plain": [
       "50000"
      ]
     },
     "execution_count": 55,
     "metadata": {},
     "output_type": "execute_result"
    }
   ],
   "source": [
    "import pandas as pd\n",
    "import numpy as np\n",
    "import matplotlib.pyplot as plt\n",
    "import math\n",
    "\n",
    "loans_income = pd.read_csv(r'Data\\loans_income.csv')\n",
    "loans_income = list(loans_income['x'].astype(float))\n",
    "len(loans_income)"
   ]
  },
  {
   "cell_type": "code",
   "execution_count": 56,
   "metadata": {},
   "outputs": [
    {
     "data": {
      "image/png": "[encoded data removed]",
      "text/plain": [
       "<Figure size 432x288 with 1 Axes>"
      ]
     },
     "metadata": {
      "needs_background": "light"
     },
     "output_type": "display_data"
    },
    {
     "data": {
      "text/plain": [
       "None"
      ]
     },
     "metadata": {},
     "output_type": "display_data"
    }
   ],
   "source": [
    "_ = plt.hist(loans_income, bins='auto')\n",
    "plt.title(\"Loan Income Original Histogram\")\n",
    "display(plt.show())"
   ]
  },
  {
   "cell_type": "markdown",
   "metadata": {},
   "source": [
    "# Bootstrapping Algorithm #\n",
    "1. Draw a sample value, record, replace it.\n",
    "2. Repeat $n$ times.\n",
    "3. Record the mean of the $n$ resampled values.\n",
    "4. Repeat steps 1–3 $R$ times.\n",
    "\n",
    "Use the $R$ results to:\n",
    "- Calculate their standard deviation (this estimates sample mean standard error).\n",
    "- Produce a histogram or boxplot.\n",
    "- Find a confidence interval.\n",
    "\n",
    "Finding confidence interval:\n",
    "1. Find the number of observations $n$, calculate their mean $\\bar{x}$, and standard deviation $s$.\n",
    "2. Decide what Confidence Interval we want: 95% or 99% are common choices. Then find the $Z$ value for that Confidence Interval.\n",
    "3. Use that $Z$ in this formula for the Confidence Interval: $\\bar{x} \\mp Z\\frac{s}{\\sqrt{n}}$\n",
    "4. For an $x$% confidence interval, trim $[(100-x) / 2]$% of the $R$ resample results from either end of the distribution."
   ]
  },
  {
   "cell_type": "code",
   "execution_count": 68,
   "metadata": {},
   "outputs": [],
   "source": [
    "sample_size = 5000\n",
    "replications = 1000\n",
    "samples = np.array([np.random.choice(loans_income, sample_size, replace = True) for _ in range(replications)])\n",
    "sample_mean_array = np.mean(samples, axis=1)\n",
    "standard_deviation = np.std(sample_mean_array)\n",
    "sample_mean = np.mean(sample_mean_array)"
   ]
  },
  {
   "cell_type": "code",
   "execution_count": 72,
   "metadata": {},
   "outputs": [
    {
     "data": {
      "image/png": "[encoded data removed]",
      "text/plain": [
       "<Figure size 432x288 with 1 Axes>"
      ]
     },
     "metadata": {
      "needs_background": "light"
     },
     "output_type": "display_data"
    },
    {
     "data": {
      "text/plain": [
       "None"
      ]
     },
     "metadata": {},
     "output_type": "display_data"
    }
   ],
   "source": [
    "_ = plt.hist(sample_mean_array, bins='auto')\n",
    "plt.title(\"Loan Income Sampling Histogram\")\n",
    "display(plt.show())"
   ]
  },
  {
   "cell_type": "markdown",
   "metadata": {},
   "source": [
    "Find confidence interval using sample data with Normal distribution\n",
    "\n",
    "$Z$ value = 1.960 (for 95%)"
   ]
  },
  {
   "cell_type": "code",
   "execution_count": 76,
   "metadata": {},
   "outputs": [
    {
     "data": {
      "text/plain": [
       "array([68739.50641919, 68768.8877854 , 68798.26915161])"
      ]
     },
     "execution_count": 76,
     "metadata": {},
     "output_type": "execute_result"
    }
   ],
   "source": [
    "z_value = 1.960\n",
    "sample_size = len(sample_mean_array )\n",
    "low95_pct = sample_mean - z_value*(standard_deviation / math.sqrt(sample_size))\n",
    "high95_pct = sample_mean + z_value*(standard_deviation / math.sqrt(sample_size))\n",
    "np.array([low95_pct, sample_mean, high95_pct])"
   ]
  },
  {
   "cell_type": "markdown",
   "metadata": {},
   "source": [
    "Confidence Interval using Generic Formula @ 90%"
   ]
  },
  {
   "cell_type": "code",
   "execution_count": 74,
   "metadata": {},
   "outputs": [
    {
     "data": {
      "text/plain": [
       "array([67985.59301, 68760.1489 , 69578.3584 ])"
      ]
     },
     "execution_count": 74,
     "metadata": {},
     "output_type": "execute_result"
    }
   ],
   "source": [
    "np.percentile(sample_mean_array, [5, 50, 95])"
   ]
  },
  {
   "cell_type": "code",
   "execution_count": null,
   "metadata": {},
   "outputs": [],
   "source": []
  }
 ],
 "metadata": {
  "kernelspec": {
   "display_name": "Python 3",
   "language": "python",
   "name": "python3"
  },
  "language_info": {
   "codemirror_mode": {
    "name": "ipython",
    "version": 3
   },
   "file_extension": ".py",
   "mimetype": "text/x-python",
   "name": "python",
   "nbconvert_exporter": "python",
   "pygments_lexer": "ipython3",
   "version": "3.7.0"
  }
 },
 "nbformat": 4,
 "nbformat_minor": 2
}
